{
 "cells": [
  {
   "cell_type": "code",
   "execution_count": null,
   "metadata": {},
   "outputs": [],
   "source": [
    "!pip install gym[atari]"
   ]
  },
  {
   "cell_type": "code",
   "execution_count": 1,
   "metadata": {},
   "outputs": [],
   "source": [
    "%matplotlib widget"
   ]
  },
  {
   "cell_type": "code",
   "execution_count": 2,
   "metadata": {},
   "outputs": [],
   "source": [
    "from IPython.core.debugger import set_trace"
   ]
  },
  {
   "cell_type": "code",
   "execution_count": 3,
   "metadata": {},
   "outputs": [],
   "source": [
    "import torch\n",
    "from torch import nn\n",
    "from torch.distributions import Categorical\n",
    "from torch.optim import Adam, SGD"
   ]
  },
  {
   "cell_type": "code",
   "execution_count": 4,
   "metadata": {},
   "outputs": [],
   "source": [
    "import numpy"
   ]
  },
  {
   "cell_type": "code",
   "execution_count": 5,
   "metadata": {},
   "outputs": [],
   "source": [
    "from matplotlib import pyplot as plot"
   ]
  },
  {
   "cell_type": "code",
   "execution_count": 6,
   "metadata": {},
   "outputs": [],
   "source": [
    "import copy\n",
    "from time import sleep"
   ]
  },
  {
   "cell_type": "code",
   "execution_count": 7,
   "metadata": {},
   "outputs": [],
   "source": [
    "import gym"
   ]
  },
  {
   "cell_type": "code",
   "execution_count": 8,
   "metadata": {},
   "outputs": [],
   "source": [
    "from utils import Buffer, collect_one_episode, normalize_obs, copy_params, avg_params"
   ]
  },
  {
   "cell_type": "code",
   "execution_count": 9,
   "metadata": {},
   "outputs": [],
   "source": [
    "device='cpu'"
   ]
  },
  {
   "cell_type": "code",
   "execution_count": 10,
   "metadata": {},
   "outputs": [],
   "source": [
    "class ResLinear(nn.Module):\n",
    "    def __init__(self, n_in, n_out, act=nn.ReLU()):\n",
    "        super(ResLinear, self).__init__()\n",
    "        self.act = act\n",
    "        self.linear = nn.Linear(n_in, n_out)\n",
    "        self.bn = nn.BatchNorm1d(n_out)\n",
    "        \n",
    "        assert(n_in == n_out)\n",
    "    \n",
    "    def forward(self, x):\n",
    "        h = self.act(self.bn(self.linear(x)))\n",
    "        return h + x"
   ]
  },
  {
   "cell_type": "code",
   "execution_count": 11,
   "metadata": {},
   "outputs": [],
   "source": [
    "class Player(nn.Module):\n",
    "    def __init__(self, n_in=128, n_hid=100, n_out=6):\n",
    "        super(Player, self).__init__()\n",
    "        self.layers = nn.Sequential(nn.Linear(n_in, n_hid),\n",
    "                                    nn.BatchNorm1d(n_hid),\n",
    "                                    nn.ReLU(),\n",
    "                                    ResLinear(n_hid, n_hid, nn.ReLU()),\n",
    "                                    nn.Linear(n_hid, n_out))\n",
    "        self.softmax = nn.Softmax(dim=1)\n",
    "    \n",
    "    def forward(self, obs, normalized=False):\n",
    "        if normalized:\n",
    "            return self.softmax(self.layers(obs))\n",
    "        else:\n",
    "            return self.layers(obs)"
   ]
  },
  {
   "cell_type": "code",
   "execution_count": 12,
   "metadata": {},
   "outputs": [],
   "source": [
    "class Qnet(nn.Module):\n",
    "    def __init__(self, n_in=128, n_act=6, n_hid=100):\n",
    "        super(Qnet, self).__init__()\n",
    "        self.layers = nn.Sequential(nn.Linear(n_in, n_hid), \n",
    "                                    nn.BatchNorm1d(n_hid),\n",
    "                                    nn.ReLU(),\n",
    "                                    ResLinear(n_hid, n_hid, nn.ReLU()),\n",
    "                                    nn.Linear(n_hid, n_act))\n",
    "    \n",
    "    def forward(self, obs, act):\n",
    "#         set_trace()\n",
    "        return self.layers(obs).gather(1, act.long())\n",
    "    \n",
    "    def value(self, obs):\n",
    "        return self.layers(obs).max(dim=1)\n",
    "    \n",
    "    def q(self, obs):\n",
    "        return self.layers(obs)"
   ]
  },
  {
   "cell_type": "code",
   "execution_count": 68,
   "metadata": {},
   "outputs": [],
   "source": [
    "env = gym.make('Pong-ram-v0')\n",
    "\n",
    "n_frames = 1"
   ]
  },
  {
   "cell_type": "code",
   "execution_count": 74,
   "metadata": {},
   "outputs": [],
   "source": [
    "# create a policy\n",
    "player = Player(n_in=128*n_frames, n_hid=32, n_out=6).to(device)"
   ]
  },
  {
   "cell_type": "code",
   "execution_count": 75,
   "metadata": {},
   "outputs": [],
   "source": [
    "# create a q estimator\n",
    "qnet = Qnet(n_in=128*n_frames, n_hid=32, n_act=6).to(device)\n",
    "qold = Qnet(n_in=128*n_frames, n_hid=32, n_act=6).to(device)\n",
    "copy_params(qnet, qold)"
   ]
  },
  {
   "cell_type": "code",
   "execution_count": 76,
   "metadata": {},
   "outputs": [],
   "source": [
    "# initialize optimizers\n",
    "opt_player = Adam(player.parameters(), lr=0.0001)\n",
    "opt_q = Adam(qnet.parameters(), lr=0.0001)"
   ]
  },
  {
   "cell_type": "code",
   "execution_count": 77,
   "metadata": {},
   "outputs": [],
   "source": [
    "# initialize replay buffer\n",
    "replay_buffer = Buffer(max_items=50000, n_frames=n_frames)"
   ]
  },
  {
   "cell_type": "code",
   "execution_count": null,
   "metadata": {},
   "outputs": [
    {
     "name": "stdout",
     "output_type": "stream",
     "text": [
      "Valid run -20.0 -20.0\n",
      "# plays 1 return -18.0 q_loss 0.021508656442165375 entropy inf\n",
      "Valid run -20.0 -20.0\n",
      "# plays 2 return -18.2 q_loss 0.021850073523819447 entropy 1.6776935750536182\n",
      "Valid run -20.0 -20.0\n",
      "# plays 3 return -18.38 q_loss 0.021976803634315728 entropy 1.5746033315842718\n",
      "Valid run -20.0 -20.0\n",
      "# plays 4 return -18.541999999999998 q_loss 0.022038987742736934 entropy 1.4610136357878813\n",
      "Valid run -20.0 -20.0\n",
      "# plays 5 return -18.6878 q_loss 0.02190871332604438 entropy 1.4479458931157334\n",
      "Valid run -19.0 -19.9\n",
      "# plays 6 return -18.41902 q_loss 0.021644383694399146 entropy 1.26043908765652\n",
      "Valid run -20.0 -19.91\n",
      "# plays 7 return -17.977117999999997 q_loss 0.021101396740080786 entropy 1.0175646834039835\n",
      "Valid run -20.0 -19.919\n",
      "# plays 8 return -18.1794062 q_loss 0.021025721544565446 entropy 0.8565105594441192\n",
      "Valid run -19.0 -19.827099999999998\n",
      "# plays 9 return -18.16146558 q_loss 0.020564443936534244 entropy 0.8571373841567795\n",
      "Valid run -19.0 -19.744389999999996\n",
      "# plays 10 return -18.045319022 q_loss 0.02060216217093544 entropy 0.8332335903816366\n",
      "Valid run -20.0 -19.769950999999995\n",
      "# plays 11 return -18.2407871198 q_loss 0.02024613681155035 entropy 0.8000670437385253\n",
      "Valid run -20.0 -19.792955899999995\n",
      "# plays 12 return -18.41670840782 q_loss 0.020216303208925628 entropy 0.7298749818489396\n",
      "Valid run -20.0 -19.813660309999996\n",
      "# plays 13 return -18.575037567038 q_loss 0.019825804097466145 entropy 0.6211969852313322\n",
      "Valid run -20.0 -19.832294278999996\n",
      "# plays 14 return -18.7175338103342 q_loss 0.019059689201872773 entropy 0.5907435009473609\n",
      "Valid run -20.0 -19.849064851099996\n",
      "# plays 15 return -18.84578042930078 q_loss 0.0184645957347404 entropy 0.6270168729733123\n",
      "Valid run -20.0 -19.864158365989997\n",
      "# plays 16 return -18.961202386370704 q_loss 0.018258655102251563 entropy 0.6007986062768861\n",
      "Valid run -20.0 -19.877742529390996\n",
      "# plays 17 return -19.065082147733634 q_loss 0.018188154948829346 entropy 0.5856354438760581\n",
      "Valid run -15.0 -19.389968276451896\n",
      "# plays 18 return -18.95857393296027 q_loss 0.01802227292485124 entropy 0.6766019873563202\n",
      "Valid run -20.0 -19.45097144880671\n",
      "# plays 19 return -18.562716539664244 q_loss 0.01787444425994533 entropy 0.7624226996683862\n",
      "Valid run -20.0 -19.50587430392604\n",
      "# plays 20 return -17.80644488569782 q_loss 0.017790102348098552 entropy 0.6556541153223426\n",
      "Valid run -20.0 -19.555286873533436\n",
      "# plays 21 return -17.82580039712804 q_loss 0.01754203294399625 entropy 0.4349314171889078\n",
      "Valid run -20.0 -19.599758186180093\n",
      "# plays 22 return -17.743220357415236 q_loss 0.01726360964119356 entropy 0.3654231875734366\n",
      "Valid run -19.0 -19.539782367562083\n",
      "# plays 23 return -17.86889832167371 q_loss 0.017070594462066185 entropy 0.329736840284782\n",
      "Valid run -17.0 -19.285804130805875\n",
      "# plays 24 return -17.88200848950634 q_loss 0.016698014001377784 entropy 0.3197192368994114\n",
      "Valid run -15.0 -18.857223717725287\n",
      "# plays 25 return -17.993807640555705 q_loss 0.01592555764123353 entropy 0.2915626643423969\n",
      "Valid run -18.0 -18.77150134595276\n",
      "# plays 26 return -17.894426876500134 q_loss 0.015723449344675716 entropy 0.321311740293253\n",
      "Valid run -20.0 -18.894351211357485\n",
      "# plays 27 return -17.80498418885012 q_loss 0.015252371002949157 entropy 0.3393646051491051\n",
      "Valid run -17.0 -18.704916090221737\n"
     ]
    }
   ],
   "source": [
    "n_iter = 1000\n",
    "init_collect = 1\n",
    "n_collect = 1\n",
    "n_q = 150\n",
    "n_policy = 150\n",
    "disp_iter = 1\n",
    "val_iter = 1\n",
    "\n",
    "max_len = 1000\n",
    "batch_size = 1000\n",
    "\n",
    "ent_coeff = 0. #0.001\n",
    "discount_factor = .95\n",
    "\n",
    "q_loss = -numpy.Inf\n",
    "ret = -numpy.Inf\n",
    "entropy = -numpy.Inf\n",
    "valid_ret = -numpy.Inf\n",
    "\n",
    "return_history = []\n",
    "\n",
    "for ni in range(n_iter):\n",
    "    player.eval()\n",
    "\n",
    "    if numpy.mod(ni, val_iter) == 0:\n",
    "        _, _, _, _, _, ret_ = collect_one_episode(env, player, max_len=max_len, deterministic=True, n_frames=n_frames)\n",
    "        return_history.append(ret_)\n",
    "        if valid_ret == -numpy.Inf:\n",
    "            valid_ret = ret_\n",
    "        else:\n",
    "            valid_ret = 0.9 * valid_ret + 0.1 * ret_\n",
    "        print('Valid run', ret_, valid_ret)\n",
    "\n",
    "    # collect some episodes using the current policy\n",
    "    # and push (obs,a,r,p(a)) tuples to the replay buffer.\n",
    "    nc = n_collect\n",
    "    if ni == 0:\n",
    "        nc = init_collect\n",
    "    for ci in range(nc):\n",
    "        o_, r_, c_, a_, ap_, ret_ = collect_one_episode(env, player, max_len=max_len, discount_factor=discount_factor, n_frames=n_frames)\n",
    "        replay_buffer.add(o_, r_, c_, a_, ap_)\n",
    "        if ret == -numpy.Inf:\n",
    "            ret = ret_\n",
    "        else:\n",
    "            ret = 0.9 * ret + 0.1 * ret_\n",
    "    \n",
    "    # fit a q function\n",
    "    # TD learning: min_Q (Q(s,a) - (r + \\gamma \\max_a' Q(s',a')))^2\n",
    "    qnet.train()\n",
    "    qold.eval()\n",
    "    player.eval()\n",
    "    for qi in range(n_q):\n",
    "        opt_player.zero_grad()\n",
    "        opt_q.zero_grad()\n",
    "        \n",
    "        batch = replay_buffer.sample(batch_size)\n",
    "        \n",
    "        batch_x = torch.from_numpy(numpy.stack([ex['current']['obs'] for ex in batch]).astype('float32')).to(device)\n",
    "        batch_xn = torch.from_numpy(numpy.stack([ex['next']['obs'] for ex in batch]).astype('float32')).to(device)\n",
    "        \n",
    "        batch_y = torch.from_numpy(numpy.stack([ex['current']['rew'] for ex in batch]).astype('float32')).to(device)\n",
    "        batch_a = torch.from_numpy(numpy.stack([ex['current']['act'] for ex in batch]).astype('float32')[:,None]).to(device)\n",
    "        \n",
    "        q_pred = qnet(batch_x, batch_a).squeeze()\n",
    "        q_next = qold.value(batch_xn)[0].squeeze()\n",
    "        \n",
    "        loss_ = ((q_pred - (batch_y + discount_factor * q_next)) ** 2)\n",
    "\n",
    "        # importance weighting\n",
    "        batch_pi = player(batch_x, normalized=True)        \n",
    "        logp = torch.log(batch_pi.gather(1, batch_a.long())).clone().detach()\n",
    "        \n",
    "        batch_q = torch.from_numpy(numpy.stack([ex['current']['prob'] for ex in batch]).astype('float32')).to(device)\n",
    "        \n",
    "        iw = torch.exp((logp - torch.log(batch_q)).clamp(max=0.))\n",
    "        loss = iw * loss_\n",
    "        \n",
    "        loss = loss.mean()\n",
    "        \n",
    "        loss.backward()\n",
    "        opt_q.step()\n",
    "        \n",
    "    if q_loss == -numpy.Inf:\n",
    "        q_loss = loss_.mean().item()\n",
    "    else:\n",
    "        q_loss = 0.9 * q_loss + 0.1 * loss_.mean().item()\n",
    "        \n",
    "    copy_params(qnet, qold)\n",
    "        \n",
    "    if numpy.mod(ni, disp_iter) == 0:\n",
    "        print('# plays', (ni+1) * n_collect, 'return', ret, 'q_loss', q_loss, 'entropy', -entropy)\n",
    "    \n",
    "    # fit a policy\n",
    "    # advantage: (r(a,s) + \\gamma * V(s') - V(s))\n",
    "    qnet.eval()\n",
    "    player.train()\n",
    "    for pi in range(n_policy):\n",
    "        opt_player.zero_grad()\n",
    "        opt_q.zero_grad()\n",
    "        \n",
    "        batch = replay_buffer.sample(batch_size)\n",
    "        \n",
    "        batch_x = torch.from_numpy(numpy.stack([ex['current']['obs'] for ex in batch]).astype('float32')).to(device)\n",
    "        batch_r = torch.from_numpy(numpy.stack([ex['current']['crew'] for ex in batch]).astype('float32')[:,None]).to(device)\n",
    "        batch_a = torch.from_numpy(numpy.stack([ex['current']['act'] for ex in batch]).astype('float32')[:,None]).to(device)\n",
    "\n",
    "        batch_pi = player(batch_x, normalized=True)        \n",
    "        batch_pin = player(batch_xn, normalized=True)        \n",
    "        \n",
    "        logp = torch.log(batch_pi.gather(1, batch_a.long()))\n",
    "        greedy_a = batch_pi.max(1)[1].resize_(batch_pi.size(0), 1)\n",
    "        \n",
    "        # V(s) = E_pi(a|s)[Q(s,a)]\n",
    "#         batch_v = (qnet.q(batch_x) * batch_pi).sum(1).clone().detach()\n",
    "#         batch_vn = (qnet.q(batch_xn) * batch_pin).sum(1).clone().detach()\n",
    "        batch_v = qnet.value(batch_x)[0].clone().detach()\n",
    "        batch_vn = qnet.value(batch_xn)[0].clone().detach()\n",
    "        \n",
    "        # r(s,a) + \\gamma * E_pi(a|s')[Q(s',a)] - E_pi(a|s)[Q(s,a)]\n",
    "        adv = batch_r + discount_factor * batch_vn - batch_v\n",
    "        adv = adv / adv.abs().max().clamp(min=1.)\n",
    "        \n",
    "        loss = -(adv * logp)\n",
    "        \n",
    "        batch_q = torch.from_numpy(numpy.stack([ex['current']['prob'] for ex in batch]).astype('float32')).to(device)\n",
    "\n",
    "        # (clipped) importance weight: \n",
    "        # because the policy may have changed since the tuple was collected.\n",
    "        iw = torch.exp((logp.clone().detach() - torch.log(batch_q)).clamp(max=0.))\n",
    "    \n",
    "        loss = iw * loss\n",
    "        \n",
    "        # entropy regularization: though, it doesn't look necessary in this specific case.\n",
    "        ent = (batch_pi * torch.log(batch_pi)).sum(1)\n",
    "        \n",
    "        if entropy == -numpy.Inf:\n",
    "            entropy = ent.mean().item()\n",
    "        else:\n",
    "            entropy = 0.9 * entropy + 0.1 * ent.mean().item()\n",
    "        \n",
    "        loss = (loss + ent_coeff * ent).mean()\n",
    "        \n",
    "        loss.backward()\n",
    "        opt_player.step()"
   ]
  },
  {
   "cell_type": "code",
   "execution_count": null,
   "metadata": {},
   "outputs": [],
   "source": [
    "plot.figure()\n",
    "\n",
    "plot.plot(return_history)\n",
    "plot.grid(True)\n",
    "plot.xlabel('# of plays x {}'.format(n_collect))\n",
    "plot.ylabel('Return over the episode of length {}'.format(max_len))\n",
    "\n",
    "plot.show()\n",
    "plot.savefig('return_log.pdf', dpi=150)"
   ]
  },
  {
   "cell_type": "code",
   "execution_count": 22,
   "metadata": {},
   "outputs": [
    {
     "ename": "KeyboardInterrupt",
     "evalue": "",
     "output_type": "error",
     "traceback": [
      "\u001b[0;31m---------------------------------------------------------------------------\u001b[0m",
      "\u001b[0;31mKeyboardInterrupt\u001b[0m                         Traceback (most recent call last)",
      "\u001b[0;32m<ipython-input-22-8b543fa33c12>\u001b[0m in \u001b[0;36m<module>\u001b[0;34m()\u001b[0m\n\u001b[1;32m      1\u001b[0m \u001b[0;31m# let the final policy play the pong longer\u001b[0m\u001b[0;34m\u001b[0m\u001b[0;34m\u001b[0m\u001b[0;34m\u001b[0m\u001b[0m\n\u001b[1;32m      2\u001b[0m \u001b[0mplayer\u001b[0m\u001b[0;34m.\u001b[0m\u001b[0meval\u001b[0m\u001b[0;34m(\u001b[0m\u001b[0;34m)\u001b[0m\u001b[0;34m\u001b[0m\u001b[0;34m\u001b[0m\u001b[0m\n\u001b[0;32m----> 3\u001b[0;31m \u001b[0m_\u001b[0m\u001b[0;34m,\u001b[0m \u001b[0m_\u001b[0m\u001b[0;34m,\u001b[0m \u001b[0m_\u001b[0m\u001b[0;34m,\u001b[0m \u001b[0m_\u001b[0m\u001b[0;34m,\u001b[0m \u001b[0mret_\u001b[0m \u001b[0;34m=\u001b[0m \u001b[0mcollect_one_episode\u001b[0m\u001b[0;34m(\u001b[0m\u001b[0menv\u001b[0m\u001b[0;34m,\u001b[0m \u001b[0mplayer\u001b[0m\u001b[0;34m,\u001b[0m \u001b[0mmax_len\u001b[0m\u001b[0;34m=\u001b[0m\u001b[0;36m1000000\u001b[0m\u001b[0;34m,\u001b[0m \u001b[0mdeterministic\u001b[0m\u001b[0;34m=\u001b[0m\u001b[0;32mTrue\u001b[0m\u001b[0;34m,\u001b[0m \u001b[0mrendering\u001b[0m\u001b[0;34m=\u001b[0m\u001b[0;32mTrue\u001b[0m\u001b[0;34m)\u001b[0m\u001b[0;34m\u001b[0m\u001b[0;34m\u001b[0m\u001b[0m\n\u001b[0m",
      "\u001b[0;32m<ipython-input-13-654a7fed751b>\u001b[0m in \u001b[0;36mcollect_one_episode\u001b[0;34m(env, player, max_len, discount_factor, deterministic, rendering, verbose)\u001b[0m\n\u001b[1;32m     16\u001b[0m         \u001b[0;32mif\u001b[0m \u001b[0mrendering\u001b[0m\u001b[0;34m:\u001b[0m\u001b[0;34m\u001b[0m\u001b[0;34m\u001b[0m\u001b[0m\n\u001b[1;32m     17\u001b[0m             \u001b[0menv\u001b[0m\u001b[0;34m.\u001b[0m\u001b[0mrender\u001b[0m\u001b[0;34m(\u001b[0m\u001b[0;34m)\u001b[0m\u001b[0;34m\u001b[0m\u001b[0;34m\u001b[0m\u001b[0m\n\u001b[0;32m---> 18\u001b[0;31m             \u001b[0msleep\u001b[0m\u001b[0;34m(\u001b[0m\u001b[0;36m0.05\u001b[0m\u001b[0;34m)\u001b[0m\u001b[0;34m\u001b[0m\u001b[0;34m\u001b[0m\u001b[0m\n\u001b[0m\u001b[1;32m     19\u001b[0m \u001b[0;34m\u001b[0m\u001b[0m\n\u001b[1;32m     20\u001b[0m         \u001b[0mobs\u001b[0m \u001b[0;34m=\u001b[0m \u001b[0mnormalize_obs\u001b[0m\u001b[0;34m(\u001b[0m\u001b[0mobs\u001b[0m\u001b[0;34m)\u001b[0m\u001b[0;34m\u001b[0m\u001b[0;34m\u001b[0m\u001b[0m\n",
      "\u001b[0;31mKeyboardInterrupt\u001b[0m: "
     ]
    }
   ],
   "source": [
    "# let the final policy play the pong longer\n",
    "player.eval()\n",
    "_, _, _, _, ret_ = collect_one_episode(env, player, max_len=1000000, deterministic=True, rendering=True)"
   ]
  }
 ],
 "metadata": {
  "kernelspec": {
   "display_name": "Python 3",
   "language": "python",
   "name": "python3"
  },
  "language_info": {
   "codemirror_mode": {
    "name": "ipython",
    "version": 3
   },
   "file_extension": ".py",
   "mimetype": "text/x-python",
   "name": "python",
   "nbconvert_exporter": "python",
   "pygments_lexer": "ipython3",
   "version": "3.6.7"
  }
 },
 "nbformat": 4,
 "nbformat_minor": 2
}
